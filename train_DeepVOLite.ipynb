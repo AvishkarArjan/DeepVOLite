{
 "cells": [
  {
   "cell_type": "code",
   "execution_count": 5,
   "id": "2371b872-5742-430b-b7b2-e74090608177",
   "metadata": {},
   "outputs": [
    {
     "name": "stdout",
     "output_type": "stream",
     "text": [
      "Cloning into 'DeepVOLite'...\n",
      "warning: You appear to have cloned an empty repository.\n"
     ]
    }
   ],
   "source": [
    "import os\n",
    "if os.path.exists(\"/content\"):\n",
    "    from google.colab import drive\n",
    "    drive.mount(\"/content/drive\")\n",
    "\n",
    "if not os.path.exists(\"DeepVOLite\"):\n",
    "    !git clone \"https://github.com/AvishkarArjan/DeepVOLite.git\"\n",
    "    "
   ]
  },
  {
   "cell_type": "code",
   "execution_count": null,
   "id": "a1f00a2f-ca08-4589-9ff4-7a154e460ca4",
   "metadata": {},
   "outputs": [],
   "source": [
    "data_path = \"/content/drive/MyDrive/research/KITTI_VO_RGB\"\n",
    "scene = \"00\"\n",
    "trained_path = \"trained_models\"\n",
    "loss_path = \"loss_trained\"\n",
    "workers = 2\n",
    "batch_size = 6\n",
    "epochs = 1"
   ]
  },
  {
   "cell_type": "code",
   "execution_count": 6,
   "id": "697b87ef-382a-41ff-994d-7c1ccebc66ab",
   "metadata": {},
   "outputs": [
    {
     "name": "stdout",
     "output_type": "stream",
     "text": [
      "Epoch: 1\n",
      "Loss: 4.121277809143066\n",
      "^C\n"
     ]
    }
   ],
   "source": [
    "!python3 DeepVOLite/main.py --data data_path --scene scene --trained trained_path --loss loss_path --workers workers --batch batch_size --epochs epochs "
   ]
  },
  {
   "cell_type": "code",
   "execution_count": null,
   "id": "ffe0d09d-59e4-4ffb-a3d6-041af030ebc9",
   "metadata": {},
   "outputs": [],
   "source": [
    "!cp -r \"trained_models\" \"/content/drive/MyDrive/research\"\n",
    "!cp -r \"loss_trained\" \"/content/drive/MyDrive/research\""
   ]
  },
  {
   "cell_type": "code",
   "execution_count": null,
   "id": "c49efb1a-1c97-42ab-97b4-4fb7d0e8b77a",
   "metadata": {},
   "outputs": [],
   "source": []
  },
  {
   "cell_type": "code",
   "execution_count": null,
   "id": "e125941c-962a-4c98-8eb5-400debd3f56d",
   "metadata": {},
   "outputs": [],
   "source": []
  },
  {
   "cell_type": "code",
   "execution_count": null,
   "id": "ad0457da-b818-4b0c-b0b2-55be19d6d939",
   "metadata": {},
   "outputs": [],
   "source": []
  },
  {
   "cell_type": "code",
   "execution_count": null,
   "id": "4559308e-9f2d-4bb1-8ba7-88448af0be81",
   "metadata": {},
   "outputs": [],
   "source": []
  },
  {
   "cell_type": "code",
   "execution_count": null,
   "id": "ebb9aa72-6e8d-4b6f-bf6c-ab6078db965f",
   "metadata": {},
   "outputs": [],
   "source": []
  },
  {
   "cell_type": "code",
   "execution_count": null,
   "id": "76dbd793-3a80-487b-8e7a-5323dfc22246",
   "metadata": {},
   "outputs": [],
   "source": []
  },
  {
   "cell_type": "code",
   "execution_count": null,
   "id": "f6f06b40-0bcc-4d54-b10c-3bc943ad7f43",
   "metadata": {},
   "outputs": [],
   "source": []
  },
  {
   "cell_type": "code",
   "execution_count": null,
   "id": "956e95c2-11c7-427b-8afc-5c3890011000",
   "metadata": {},
   "outputs": [],
   "source": []
  },
  {
   "cell_type": "code",
   "execution_count": null,
   "id": "5e696b9c-4c53-4494-b2a0-423effcae758",
   "metadata": {},
   "outputs": [],
   "source": []
  },
  {
   "cell_type": "code",
   "execution_count": null,
   "id": "498431a3-e761-4cc9-a6d5-ae70d809b424",
   "metadata": {},
   "outputs": [],
   "source": []
  }
 ],
 "metadata": {
  "kernelspec": {
   "display_name": "Python 3 (ipykernel)",
   "language": "python",
   "name": "python3"
  },
  "language_info": {
   "codemirror_mode": {
    "name": "ipython",
    "version": 3
   },
   "file_extension": ".py",
   "mimetype": "text/x-python",
   "name": "python",
   "nbconvert_exporter": "python",
   "pygments_lexer": "ipython3",
   "version": "3.10.12"
  }
 },
 "nbformat": 4,
 "nbformat_minor": 5
}
